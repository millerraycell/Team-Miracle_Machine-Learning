{
 "cells": [
  {
   "cell_type": "code",
   "execution_count": 43,
   "metadata": {},
   "outputs": [],
   "source": [
    "import numpy as np\n",
    "import pandas as pd\n",
    "import matplotlib.pyplot as plt\n",
    "%matplotlib inline\n",
    "pd.set_option('display.max_rows',2500)\n",
    "np.random.seed(42)"
   ]
  },
  {
   "cell_type": "code",
   "execution_count": 2,
   "metadata": {},
   "outputs": [],
   "source": [
    "data = pd.read_excel(\"NewDataset.xlsx\")"
   ]
  },
  {
   "cell_type": "markdown",
   "metadata": {},
   "source": [
    "# Remoção de features por haver poucos países com tais informações:\n",
    "* Pf_rol_procedural = Procedural Justice\n",
    "* pf_rol_civil = Civil justice\n",
    "* pf_rol_criminal = Criminal justice"
   ]
  },
  {
   "cell_type": "code",
   "execution_count": 3,
   "metadata": {},
   "outputs": [],
   "source": [
    "test = data.sort_values('countries')\n",
    "test = test.drop(['pf_rol_procedural','pf_rol_civil','pf_rol_criminal'],axis=1)\n",
    "test = test.fillna(method='backfill',axis = 0)"
   ]
  },
  {
   "cell_type": "code",
   "execution_count": 4,
   "metadata": {},
   "outputs": [],
   "source": [
    "test.sort_values('PIB',inplace=True,ascending=False)"
   ]
  },
  {
   "cell_type": "code",
   "execution_count": 5,
   "metadata": {},
   "outputs": [],
   "source": [
    "def classifier(PIB):\n",
    "    PIB_third = len(PIB)/3\n",
    "    r = []\n",
    "    for i in range(len(PIB)):\n",
    "        if(i < PIB_third * 1):\n",
    "            r.append('0')\n",
    "        elif(i < PIB_third *2):\n",
    "            r.append('1')\n",
    "        else:\n",
    "            r.append('2')\n",
    "    return r"
   ]
  },
  {
   "cell_type": "markdown",
   "metadata": {},
   "source": [
    "# 2 ultimos anos da Venezuela vazios\n",
    "# Dropando países: Taiwan, Macedonia, Syria, Swaziland"
   ]
  },
  {
   "cell_type": "code",
   "execution_count": 6,
   "metadata": {},
   "outputs": [],
   "source": [
    "test.dropna(how='any',subset=['PIB'],inplace=True)"
   ]
  },
  {
   "cell_type": "markdown",
   "metadata": {},
   "source": [
    "Criando as Labels e classificando os países como a 0, 1 e 2"
   ]
  },
  {
   "cell_type": "code",
   "execution_count": 7,
   "metadata": {},
   "outputs": [],
   "source": [
    "test['Label'] = classifier(test['PIB'].values)\n",
    "final = test.drop(test.columns[:5],axis = 1)\n",
    "final.drop(\"PIB\",axis = 1,inplace=True)\n",
    "final = round(final,2)\n",
    "final = final.fillna(method='ffill')"
   ]
  },
  {
   "cell_type": "code",
   "execution_count": 8,
   "metadata": {},
   "outputs": [],
   "source": [
    "from sklearn.model_selection import train_test_split"
   ]
  },
  {
   "cell_type": "code",
   "execution_count": 9,
   "metadata": {},
   "outputs": [],
   "source": [
    "x = final.drop(\"Label\",axis = 1)\n",
    "y = final[\"Label\"]\n",
    "x_train,X_val,y_train,Y_val = train_test_split(x,y,random_state = 42)"
   ]
  },
  {
   "cell_type": "code",
   "execution_count": 10,
   "metadata": {
    "scrolled": false
   },
   "outputs": [],
   "source": [
    "from sklearn.ensemble import RandomForestClassifier"
   ]
  },
  {
   "cell_type": "markdown",
   "metadata": {},
   "source": [
    "# Random Forest"
   ]
  },
  {
   "cell_type": "code",
   "execution_count": 47,
   "metadata": {},
   "outputs": [],
   "source": [
    "RFC = RandomForestClassifier(verbose=1)"
   ]
  },
  {
   "cell_type": "code",
   "execution_count": 48,
   "metadata": {},
   "outputs": [
    {
     "name": "stderr",
     "output_type": "stream",
     "text": [
      "/home/arch-gabe/anaconda3/lib/python3.7/site-packages/sklearn/ensemble/forest.py:246: FutureWarning: The default value of n_estimators will change from 10 in version 0.20 to 100 in 0.22.\n",
      "  \"10 in version 0.20 to 100 in 0.22.\", FutureWarning)\n",
      "[Parallel(n_jobs=1)]: Using backend SequentialBackend with 1 concurrent workers.\n",
      "[Parallel(n_jobs=1)]: Done  10 out of  10 | elapsed:    0.0s finished\n"
     ]
    },
    {
     "data": {
      "text/plain": [
       "RandomForestClassifier(bootstrap=True, class_weight=None, criterion='gini',\n",
       "            max_depth=None, max_features='auto', max_leaf_nodes=None,\n",
       "            min_impurity_decrease=0.0, min_impurity_split=None,\n",
       "            min_samples_leaf=1, min_samples_split=2,\n",
       "            min_weight_fraction_leaf=0.0, n_estimators=10, n_jobs=None,\n",
       "            oob_score=False, random_state=None, verbose=1,\n",
       "            warm_start=False)"
      ]
     },
     "execution_count": 48,
     "metadata": {},
     "output_type": "execute_result"
    }
   ],
   "source": [
    "RFC.fit(x_train,y_train)"
   ]
  },
  {
   "cell_type": "code",
   "execution_count": 58,
   "metadata": {},
   "outputs": [
    {
     "ename": "ModuleNotFoundError",
     "evalue": "No module named 'graphviz'",
     "output_type": "error",
     "traceback": [
      "\u001b[0;31m---------------------------------------------------------------------------\u001b[0m",
      "\u001b[0;31mModuleNotFoundError\u001b[0m                       Traceback (most recent call last)",
      "\u001b[0;32m<ipython-input-58-8ae0feccf7b2>\u001b[0m in \u001b[0;36m<module>\u001b[0;34m\u001b[0m\n\u001b[1;32m      2\u001b[0m \u001b[0;34m\u001b[0m\u001b[0m\n\u001b[1;32m      3\u001b[0m \u001b[0;32mfrom\u001b[0m \u001b[0msklearn\u001b[0m\u001b[0;34m.\u001b[0m\u001b[0mtree\u001b[0m \u001b[0;32mimport\u001b[0m \u001b[0mexport_graphviz\u001b[0m\u001b[0;34m\u001b[0m\u001b[0;34m\u001b[0m\u001b[0m\n\u001b[0;32m----> 4\u001b[0;31m \u001b[0;32mfrom\u001b[0m \u001b[0mgraphviz\u001b[0m \u001b[0;32mimport\u001b[0m \u001b[0mSource\u001b[0m\u001b[0;34m\u001b[0m\u001b[0;34m\u001b[0m\u001b[0m\n\u001b[0m\u001b[1;32m      5\u001b[0m \u001b[0;31m# Export as dot file\u001b[0m\u001b[0;34m\u001b[0m\u001b[0;34m\u001b[0m\u001b[0;34m\u001b[0m\u001b[0m\n\u001b[1;32m      6\u001b[0m export_graphviz(estimator, out_file='tree.dot', \n",
      "\u001b[0;31mModuleNotFoundError\u001b[0m: No module named 'graphviz'"
     ]
    }
   ],
   "source": [
    "estimator = RFC.estimators_[5]\n",
    "\n",
    "from sklearn.tree import export_graphviz\n",
    "from graphviz import Source\n",
    "# Export as dot file\n",
    "export_graphviz(estimator, out_file='tree.dot', \n",
    "                feature_names = x_train.columns.values,\n",
    "                class_names = y_train,\n",
    "                rounded = True, proportion = False, \n",
    "                precision = 2, filled = True)\n",
    "\n",
    "# Convert to png using system command (requires Graphviz)\n",
    "Source.from_file('figures/iris_tree.dot')"
   ]
  },
  {
   "cell_type": "code",
   "execution_count": 13,
   "metadata": {
    "scrolled": true
   },
   "outputs": [
    {
     "name": "stderr",
     "output_type": "stream",
     "text": [
      "[Parallel(n_jobs=1)]: Using backend SequentialBackend with 1 concurrent workers.\n",
      "[Parallel(n_jobs=1)]: Done  10 out of  10 | elapsed:    0.0s finished\n"
     ]
    },
    {
     "data": {
      "text/plain": [
       "0.9232876712328767"
      ]
     },
     "execution_count": 13,
     "metadata": {},
     "output_type": "execute_result"
    }
   ],
   "source": [
    "RFC.score(X_val,Y_val)"
   ]
  },
  {
   "cell_type": "code",
   "execution_count": 29,
   "metadata": {},
   "outputs": [
    {
     "name": "stdout",
     "output_type": "stream",
     "text": [
      "Importância de features\n"
     ]
    },
    {
     "data": {
      "text/plain": [
       "['ef_government : 0.009690469351819492',\n",
       " 'ef_government_consumption : 0.018693986081916945',\n",
       " 'ef_government_enterprises : 0.004105827121280724',\n",
       " 'ef_government_tax : 0.010781329207006819',\n",
       " 'ef_government_tax_income : 0.006598840151224092',\n",
       " 'ef_government_tax_payroll : 0.0036979340138062603',\n",
       " 'ef_government_transfers : 0.07273201875388599',\n",
       " 'ef_legal : 0.029054124080941733',\n",
       " 'ef_legal_courts : 0.007480928336918155',\n",
       " 'ef_legal_crime : 0.009367489132524975',\n",
       " 'ef_legal_enforcement : 0.008792240184546768',\n",
       " 'ef_legal_gender : 0.009489945409095406',\n",
       " 'ef_legal_integrity : 0.01267186284793197',\n",
       " 'ef_legal_judicial : 0.007413451971121386',\n",
       " 'ef_legal_military : 0.009888003949335786',\n",
       " 'ef_legal_police : 0.009274893844458789',\n",
       " 'ef_legal_protection : 0.01844201136593477',\n",
       " 'ef_legal_restrictions : 0.007448223715187162',\n",
       " 'ef_money : 0.007263590914065374',\n",
       " 'ef_money_currency : 0.0027029192613876813',\n",
       " 'ef_money_growth : 0.0033131549270671396',\n",
       " 'ef_money_inflation : 0.009311798325515694',\n",
       " 'ef_money_sd : 0.010678403346755166',\n",
       " 'ef_rank : 0.012169048644323183',\n",
       " 'ef_regulation : 0.00429210415832196',\n",
       " 'ef_regulation_business : 0.029307771282438964',\n",
       " 'ef_regulation_business_adm : 0.006398274382081294',\n",
       " 'ef_regulation_business_bribes : 0.0046218070156389636',\n",
       " 'ef_regulation_business_bureaucracy : 0.0055991573279022145',\n",
       " 'ef_regulation_business_compliance : 0.01340544792141415',\n",
       " 'ef_regulation_business_licensing : 0.0074202078748247646',\n",
       " 'ef_regulation_business_start : 0.014255873927948188',\n",
       " 'ef_regulation_credit : 0.005425453890848983',\n",
       " 'ef_regulation_credit_interest : 0.0005702131117044226',\n",
       " 'ef_regulation_credit_ownership : 0.0027410483350553383',\n",
       " 'ef_regulation_credit_private : 0.005192863504176963',\n",
       " 'ef_regulation_labor : 0.009532461928051125',\n",
       " 'ef_regulation_labor_bargain : 0.003928569102434296',\n",
       " 'ef_regulation_labor_conscription : 0.0037163873201603815',\n",
       " 'ef_regulation_labor_dismissal : 0.0035526592577023084',\n",
       " 'ef_regulation_labor_firing : 0.007544446663920684',\n",
       " 'ef_regulation_labor_hours : 0.0003022238420787374',\n",
       " 'ef_regulation_labor_minwage : 0.01008979736263867',\n",
       " 'ef_score : 0.011893686581350697',\n",
       " 'ef_trade : 0.04555528909486453',\n",
       " 'ef_trade_black : 0.0035241587932413948',\n",
       " 'ef_trade_movement : 0.013302032534149588',\n",
       " 'ef_trade_movement_capital : 0.0017040956600916685',\n",
       " 'ef_trade_movement_foreign : 0.004041288105982624',\n",
       " 'ef_trade_movement_visit : 0.022205125195836044',\n",
       " 'ef_trade_regulatory : 0.013939856627137797',\n",
       " 'ef_trade_regulatory_compliance : 0.010445573766752593',\n",
       " 'ef_trade_regulatory_nontariff : 0.006721847453435395',\n",
       " 'ef_trade_tariffs : 0.011999657825190453',\n",
       " 'ef_trade_tariffs_mean : 0.01150485813674706',\n",
       " 'ef_trade_tariffs_revenue : 0.006696217279456761',\n",
       " 'ef_trade_tariffs_sd : 0.007966726422320778',\n",
       " 'hf_quartile : 0.0005768157898704786',\n",
       " 'hf_rank : 0.007968165503411938',\n",
       " 'hf_score : 0.02914419074267306',\n",
       " 'pf_association : 0.0073071358151802195',\n",
       " 'pf_association_assembly : 0.0036907736456479406',\n",
       " 'pf_association_association : 0.005577352782402295',\n",
       " 'pf_association_political : 0.00039702263484652997',\n",
       " 'pf_association_political_establish : 0.002100187930510774',\n",
       " 'pf_association_political_operate : 0.0032027620590423973',\n",
       " 'pf_association_prof : 0.0008471139108680213',\n",
       " 'pf_association_prof_establish : 0.0012435895419081922',\n",
       " 'pf_association_prof_operate : 0.0007671755783907963',\n",
       " 'pf_association_sport : 0.002483804638549375',\n",
       " 'pf_association_sport_establish : 0.0',\n",
       " 'pf_association_sport_operate : 0.0009193136108908123',\n",
       " 'pf_expression : 0.010294004636278296',\n",
       " 'pf_expression_cable : 0.0005796692477098352',\n",
       " 'pf_expression_control : 0.008378863382726979',\n",
       " 'pf_expression_influence : 0.009294197083630724',\n",
       " 'pf_expression_internet : 0.0038225661522089034',\n",
       " 'pf_expression_jailed : 0.0011744832274178639',\n",
       " 'pf_expression_killed : 0.0013891911997573445',\n",
       " 'pf_expression_newspapers : 0.004696216835041246',\n",
       " 'pf_identity : 0.006597375344148676',\n",
       " 'pf_identity_divorce : 0.0002802406375138781',\n",
       " 'pf_identity_legal : 0.0022579077277420064',\n",
       " 'pf_identity_parental : 0.0009362922599579912',\n",
       " 'pf_identity_parental_divorce : 0.0008675513995158946',\n",
       " 'pf_identity_parental_marriage : 0.0026329831932791837',\n",
       " 'pf_identity_sex : 0.0',\n",
       " 'pf_identity_sex_female : 0.00018469130445288533',\n",
       " 'pf_identity_sex_male : 4.127807182686632e-05',\n",
       " 'pf_movement : 0.012525364777735165',\n",
       " 'pf_movement_domestic : 0.001308721511238941',\n",
       " 'pf_movement_foreign : 0.0002772805617996768',\n",
       " 'pf_movement_women : 0.00020639035913433125',\n",
       " 'pf_rank : 0.016964004796183686',\n",
       " 'pf_religion : 0.005711163378312159',\n",
       " 'pf_religion_estop : 0.005422557361113293',\n",
       " 'pf_religion_estop_establish : 0.0013285765081748134',\n",
       " 'pf_religion_estop_operate : 0.004532459720506548',\n",
       " 'pf_religion_harassment : 0.009192315474536144',\n",
       " 'pf_religion_restrictions : 0.003772862386397023',\n",
       " 'pf_rol : 0.08117181454688613',\n",
       " 'pf_score : 0.06010603092483624',\n",
       " 'pf_ss : 0.007983142431650278',\n",
       " 'pf_ss_disappearances : 0.003441272756228056',\n",
       " 'pf_ss_disappearances_disap : 0.0008078236337751459',\n",
       " 'pf_ss_disappearances_fatalities : 0.0015953184559895747',\n",
       " 'pf_ss_disappearances_injuries : 0.0023234829512073637',\n",
       " 'pf_ss_disappearances_organized : 0.0007474813780274219',\n",
       " 'pf_ss_disappearances_violent : 0.0006356744061829052',\n",
       " 'pf_ss_homicide : 0.01710523370203839',\n",
       " 'pf_ss_women : 0.004205025116832387',\n",
       " 'pf_ss_women_fgm : 0.005821716315096127',\n",
       " 'pf_ss_women_inheritance : 0.01678679264397331',\n",
       " 'pf_ss_women_inheritance_daughters : 0.0013820981545482449',\n",
       " 'pf_ss_women_inheritance_widows : 0.002515214845597076',\n",
       " 'pf_ss_women_missing : 0.002017588390646906']"
      ]
     },
     "execution_count": 29,
     "metadata": {},
     "output_type": "execute_result"
    }
   ],
   "source": [
    "l = []\n",
    "for i in range(len(X_val.columns.values)):\n",
    "    l.append(X_val.columns.values[i] + \" : \" + str(RFC.feature_importances_[i]))\n",
    "    \n",
    "print(\"Importância de features\")\n",
    "l.sort()\n",
    "#for i in range(len(l)):\n",
    "    #print(l[i])\n",
    "l"
   ]
  },
  {
   "cell_type": "markdown",
   "metadata": {},
   "source": [
    "# Cross Validation com Múltiplos Classificadores"
   ]
  },
  {
   "cell_type": "code",
   "execution_count": 33,
   "metadata": {},
   "outputs": [],
   "source": [
    "from sklearn.linear_model import LogisticRegression\n",
    "from sklearn.neighbors import KNeighborsClassifier\n",
    "from sklearn.model_selection import cross_val_score"
   ]
  },
  {
   "cell_type": "code",
   "execution_count": 42,
   "metadata": {},
   "outputs": [
    {
     "name": "stdout",
     "output_type": "stream",
     "text": [
      "Acurácia do Logistic Regression = 0.83 [+/- 0.04]\n",
      "Acurácia do KNN = 0.88 [+/- 0.03]\n",
      "Acurácia do Random Forest = 0.94 [+/- 0.02]\n"
     ]
    }
   ],
   "source": [
    "import scipy.stats as st\n",
    "classifiers = [LogisticRegression(solver='lbfgs',multi_class=\"multinomial\",random_state=42,n_jobs=-1),KNeighborsClassifier(n_jobs=-1),RandomForestClassifier(n_estimators=100,verbose=0,n_jobs=-1)]\n",
    "names = [\"Logistic Regression\",\"KNN\",\"Random Forest\"]\n",
    "def train_and_test(clf, name):\n",
    "    scores = cross_val_score(clf, x_train, y_train, cv=10)\n",
    "    print('Acurácia do %s = %.2f [+/- %.2f]' % (name, scores.mean(), scores.std()))\n",
    "\n",
    "for name, clf in zip(names, classifiers):\n",
    "    train_and_test(clf, name);"
   ]
  },
  {
   "cell_type": "markdown",
   "metadata": {},
   "source": [
    "* Utilizaremos o que tem melhores resultados que é o Random Forest Classifier"
   ]
  },
  {
   "cell_type": "markdown",
   "metadata": {},
   "source": [
    "# Randomized Search com Hiper Parâmetros"
   ]
  },
  {
   "cell_type": "code",
   "execution_count": null,
   "metadata": {},
   "outputs": [],
   "source": [
    "hyper_param = {\n",
    "    \"n_estimators\": np.random.randint(10,100,size=5),\n",
    "    \"criterion\"  :[\"gini\",\"entropy\"],\n",
    "    \"max_depth\"  :np.random.randint(1,100,size=5)\n",
    "}"
   ]
  },
  {
   "cell_type": "code",
   "execution_count": 16,
   "metadata": {},
   "outputs": [],
   "source": [
    "rsc = RandomizedSearchCV(RFC,hyper_param, verbose=1, random_state=42,n_jobs=-1,cv=10)"
   ]
  },
  {
   "cell_type": "code",
   "execution_count": 17,
   "metadata": {},
   "outputs": [
    {
     "name": "stdout",
     "output_type": "stream",
     "text": [
      "Fitting 3 folds for each of 10 candidates, totalling 30 fits\n"
     ]
    },
    {
     "name": "stderr",
     "output_type": "stream",
     "text": [
      "/home/arch-gabe/anaconda3/lib/python3.7/site-packages/sklearn/model_selection/_split.py:2053: FutureWarning: You should specify a value for 'cv' instead of relying on the default value. The default value will change from 3 to 5 in version 0.22.\n",
      "  warnings.warn(CV_WARNING, FutureWarning)\n",
      "[Parallel(n_jobs=-1)]: Using backend LokyBackend with 4 concurrent workers.\n",
      "[Parallel(n_jobs=-1)]: Done  30 out of  30 | elapsed:    4.0s finished\n"
     ]
    },
    {
     "data": {
      "text/plain": [
       "RandomizedSearchCV(cv='warn', error_score='raise-deprecating',\n",
       "          estimator=RandomForestClassifier(bootstrap=True, class_weight=None, criterion='gini',\n",
       "            max_depth=None, max_features='auto', max_leaf_nodes=None,\n",
       "            min_impurity_decrease=0.0, min_impurity_split=None,\n",
       "            min_samples_leaf=1, min_samples_split=2,\n",
       "            min_weight_fraction_leaf=0.0, n_estimators='warn', n_jobs=None,\n",
       "            oob_score=False, random_state=None, verbose=0,\n",
       "            warm_start=False),\n",
       "          fit_params=None, iid='warn', n_iter=10, n_jobs=-1,\n",
       "          param_distributions={'n_estimators': [20, 40, 50], 'criterion': ['gini', 'entropy'], 'max_depth': [3, 10, 20, None]},\n",
       "          pre_dispatch='2*n_jobs', random_state=42, refit=True,\n",
       "          return_train_score='warn', scoring=None, verbose=1)"
      ]
     },
     "execution_count": 17,
     "metadata": {},
     "output_type": "execute_result"
    }
   ],
   "source": [
    "rsc.fit(x_train,y_train)"
   ]
  },
  {
   "cell_type": "code",
   "execution_count": 18,
   "metadata": {},
   "outputs": [],
   "source": [
    "rfc_h_pred = rsc.predict(X_val)"
   ]
  },
  {
   "cell_type": "code",
   "execution_count": 19,
   "metadata": {},
   "outputs": [
    {
     "data": {
      "text/plain": [
       "0.9204025617566332"
      ]
     },
     "execution_count": 19,
     "metadata": {},
     "output_type": "execute_result"
    }
   ],
   "source": [
    "rsc.best_score_"
   ]
  },
  {
   "cell_type": "code",
   "execution_count": 20,
   "metadata": {},
   "outputs": [
    {
     "data": {
      "text/plain": [
       "{'n_estimators': 40, 'max_depth': 10, 'criterion': 'entropy'}"
      ]
     },
     "execution_count": 20,
     "metadata": {},
     "output_type": "execute_result"
    }
   ],
   "source": [
    "rsc.best_params_"
   ]
  },
  {
   "cell_type": "code",
   "execution_count": null,
   "metadata": {},
   "outputs": [],
   "source": [
    "RFC."
   ]
  },
  {
   "cell_type": "markdown",
   "metadata": {},
   "source": [
    "# Matriz de Confusão"
   ]
  },
  {
   "cell_type": "code",
   "execution_count": 49,
   "metadata": {},
   "outputs": [
    {
     "name": "stdout",
     "output_type": "stream",
     "text": [
      "[[110   9   0]\n",
      " [  2 107   4]\n",
      " [  3   5 125]]\n"
     ]
    }
   ],
   "source": [
    "print(confusion_matrix(Y_val, rfc_h_pred))"
   ]
  },
  {
   "cell_type": "code",
   "execution_count": null,
   "metadata": {},
   "outputs": [],
   "source": []
  },
  {
   "cell_type": "markdown",
   "metadata": {},
   "source": [
    "# Precision/Recall"
   ]
  },
  {
   "cell_type": "code",
   "execution_count": 55,
   "metadata": {},
   "outputs": [
    {
     "name": "stdout",
     "output_type": "stream",
     "text": [
      "110\n",
      "9\n",
      "0\n",
      "2\n",
      "107\n",
      "4\n",
      "3\n",
      "5\n",
      "125\n"
     ]
    }
   ],
   "source": [
    "AxA, AxB, AxC, BxA, BxB, BxC, CxA, CxB, CxC = confusion_matrix(Y_val, rfc_h_pred).ravel()\n",
    "print(AxA)\n",
    "print(AxB)\n",
    "print(AxC)\n",
    "print(BxA)\n",
    "print(BxB)\n",
    "print(BxC)\n",
    "print(CxA)\n",
    "print(CxB)\n",
    "print(CxC)"
   ]
  },
  {
   "cell_type": "markdown",
   "metadata": {},
   "source": [
    " # Recall"
   ]
  },
  {
   "cell_type": "code",
   "execution_count": 57,
   "metadata": {},
   "outputs": [
    {
     "data": {
      "text/plain": [
       "0.9243697478991597"
      ]
     },
     "execution_count": 57,
     "metadata": {},
     "output_type": "execute_result"
    }
   ],
   "source": [
    "#axo q tá certo\n",
    "tprA = AxA/(AxB + AxC + AxA)\n",
    "tprA"
   ]
  },
  {
   "cell_type": "code",
   "execution_count": 60,
   "metadata": {},
   "outputs": [
    {
     "data": {
      "text/plain": [
       "0.9469026548672567"
      ]
     },
     "execution_count": 60,
     "metadata": {},
     "output_type": "execute_result"
    }
   ],
   "source": [
    "tprB = BxB/(BxA + BxB + BxC)\n",
    "tprB"
   ]
  },
  {
   "cell_type": "code",
   "execution_count": 61,
   "metadata": {},
   "outputs": [
    {
     "data": {
      "text/plain": [
       "0.9398496240601504"
      ]
     },
     "execution_count": 61,
     "metadata": {},
     "output_type": "execute_result"
    }
   ],
   "source": [
    "tprC = CxC/(CxA + CxB + CxC)\n",
    "tprC"
   ]
  },
  {
   "cell_type": "markdown",
   "metadata": {},
   "source": [
    "#  Precision"
   ]
  },
  {
   "cell_type": "code",
   "execution_count": 64,
   "metadata": {},
   "outputs": [
    {
     "data": {
      "text/plain": [
       "0.9565217391304348"
      ]
     },
     "execution_count": 64,
     "metadata": {},
     "output_type": "execute_result"
    }
   ],
   "source": [
    "precA = AxA/(AxA + BxA +CxA)\n",
    "precA"
   ]
  },
  {
   "cell_type": "code",
   "execution_count": 65,
   "metadata": {},
   "outputs": [
    {
     "data": {
      "text/plain": [
       "0.8842975206611571"
      ]
     },
     "execution_count": 65,
     "metadata": {},
     "output_type": "execute_result"
    }
   ],
   "source": [
    "precB = BxB/(AxB + BxB + CxB)\n",
    "precB"
   ]
  },
  {
   "cell_type": "code",
   "execution_count": 66,
   "metadata": {},
   "outputs": [
    {
     "data": {
      "text/plain": [
       "0.9689922480620154"
      ]
     },
     "execution_count": 66,
     "metadata": {},
     "output_type": "execute_result"
    }
   ],
   "source": [
    "precC = CxC/(AxC + BxC +CxC)\n",
    "precC"
   ]
  },
  {
   "cell_type": "code",
   "execution_count": 67,
   "metadata": {},
   "outputs": [
    {
     "data": {
      "text/plain": [
       "0.9366038359512024"
      ]
     },
     "execution_count": 67,
     "metadata": {},
     "output_type": "execute_result"
    }
   ],
   "source": [
    "(precA + precB + precC)/3"
   ]
  },
  {
   "cell_type": "code",
   "execution_count": null,
   "metadata": {},
   "outputs": [],
   "source": []
  },
  {
   "cell_type": "code",
   "execution_count": null,
   "metadata": {},
   "outputs": [],
   "source": []
  },
  {
   "cell_type": "code",
   "execution_count": null,
   "metadata": {},
   "outputs": [],
   "source": []
  },
  {
   "cell_type": "code",
   "execution_count": null,
   "metadata": {},
   "outputs": [],
   "source": []
  },
  {
   "cell_type": "code",
   "execution_count": null,
   "metadata": {},
   "outputs": [],
   "source": []
  },
  {
   "cell_type": "code",
   "execution_count": 81,
   "metadata": {},
   "outputs": [
    {
     "name": "stderr",
     "output_type": "stream",
     "text": [
      "/home/joshua/anaconda3/lib/python3.6/site-packages/pandas/core/frame.py:3694: SettingWithCopyWarning: \n",
      "A value is trying to be set on a copy of a slice from a DataFrame\n",
      "\n",
      "See the caveats in the documentation: http://pandas.pydata.org/pandas-docs/stable/indexing.html#indexing-view-versus-copy\n",
      "  errors=errors)\n"
     ]
    }
   ],
   "source": [
    "final_2 = test.sort_values(['year','PIB'],ascending=False)\n",
    "final_2_2016 = final_2[final_2['year'] == 2016]\n",
    "final_2_rest = final_2[final_2['year'] != 2016]\n",
    "final_2_2016.drop(test.columns[:4],axis = 1)\n",
    "final_2_2016.drop(\"PIB\",axis = 1,inplace=True)\n",
    "final_2_rest.drop(test.columns[:4],axis = 1)\n",
    "final_2_rest.drop(\"PIB\",axis = 1,inplace=True)\n",
    "x_data = final_2_rest.drop(\"Label\",axis = 1)\n",
    "y_data = final_2_rest[\"Label\"]\n",
    "x = final_2_2016.drop(\"Label\",axis = 1)\n",
    "y = final_2_2016[\"Label\"]\n",
    "x_train,X_val,y_train,Y_val = train_test_split(x_data,y_data,random_state = 42)"
   ]
  },
  {
   "cell_type": "code",
   "execution_count": null,
   "metadata": {},
   "outputs": [],
   "source": []
  },
  {
   "cell_type": "code",
   "execution_count": null,
   "metadata": {},
   "outputs": [],
   "source": []
  },
  {
   "cell_type": "code",
   "execution_count": null,
   "metadata": {},
   "outputs": [],
   "source": []
  },
  {
   "cell_type": "code",
   "execution_count": null,
   "metadata": {},
   "outputs": [],
   "source": []
  },
  {
   "cell_type": "code",
   "execution_count": null,
   "metadata": {},
   "outputs": [],
   "source": []
  },
  {
   "cell_type": "code",
   "execution_count": null,
   "metadata": {},
   "outputs": [],
   "source": []
  }
 ],
 "metadata": {
  "kernelspec": {
   "display_name": "Python 3",
   "language": "python",
   "name": "python3"
  },
  "language_info": {
   "codemirror_mode": {
    "name": "ipython",
    "version": 3
   },
   "file_extension": ".py",
   "mimetype": "text/x-python",
   "name": "python",
   "nbconvert_exporter": "python",
   "pygments_lexer": "ipython3",
   "version": "3.7.3"
  }
 },
 "nbformat": 4,
 "nbformat_minor": 2
}
